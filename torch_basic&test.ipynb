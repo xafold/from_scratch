{
 "cells": [
  {
   "cell_type": "code",
   "execution_count": 1,
   "metadata": {},
   "outputs": [
    {
     "data": {
      "text/plain": [
       "'2.3.1+cu121'"
      ]
     },
     "execution_count": 1,
     "metadata": {},
     "output_type": "execute_result"
    }
   ],
   "source": [
    "import torch\n",
    "torch.__version__"
   ]
  },
  {
   "cell_type": "code",
   "execution_count": 2,
   "metadata": {},
   "outputs": [
    {
     "data": {
      "text/plain": [
       "(tensor([1., 2., 3., 4., 5., 6., 7., 8., 9.]), torch.Size([9]))"
      ]
     },
     "execution_count": 2,
     "metadata": {},
     "output_type": "execute_result"
    }
   ],
   "source": [
    "x = torch.arange(1., 10.)\n",
    "x, x.shape"
   ]
  },
  {
   "cell_type": "code",
   "execution_count": 3,
   "metadata": {},
   "outputs": [
    {
     "data": {
      "text/plain": [
       "(tensor([[1., 2., 3., 4., 5., 6., 7., 8., 9.]]), torch.Size([1, 9]))"
      ]
     },
     "execution_count": 3,
     "metadata": {},
     "output_type": "execute_result"
    }
   ],
   "source": [
    "x_reshaped = x.reshape(1,9)\n",
    "x_reshaped, x_reshaped.shape"
   ]
  },
  {
   "cell_type": "code",
   "execution_count": 4,
   "metadata": {},
   "outputs": [
    {
     "data": {
      "text/plain": [
       "(tensor([[1., 2., 3., 4., 5., 6., 7., 8., 9.]]),\n",
       " tensor([1., 2., 3., 4., 5., 6., 7., 8., 9.]))"
      ]
     },
     "execution_count": 4,
     "metadata": {},
     "output_type": "execute_result"
    }
   ],
   "source": [
    "z = x.view(1,9)\n",
    "z, x"
   ]
  },
  {
   "cell_type": "code",
   "execution_count": 5,
   "metadata": {},
   "outputs": [
    {
     "data": {
      "text/plain": [
       "(tensor([[10.,  2.,  3.,  4.,  5.,  6.,  7.,  8.,  9.]]),\n",
       " tensor([10.,  2.,  3.,  4.,  5.,  6.,  7.,  8.,  9.]))"
      ]
     },
     "execution_count": 5,
     "metadata": {},
     "output_type": "execute_result"
    }
   ],
   "source": [
    "# Since z is view of x and view just shares the same memeory to z as x.\n",
    "z[:, 0] = 10.\n",
    "z, x\n"
   ]
  },
  {
   "cell_type": "code",
   "execution_count": 6,
   "metadata": {},
   "outputs": [
    {
     "name": "stdout",
     "output_type": "stream",
     "text": [
      "tensor([[10., 10., 10.],\n",
      "        [ 2.,  2.,  2.],\n",
      "        [ 3.,  3.,  3.],\n",
      "        [ 4.,  4.,  4.],\n",
      "        [ 5.,  5.,  5.],\n",
      "        [ 6.,  6.,  6.],\n",
      "        [ 7.,  7.,  7.],\n",
      "        [ 8.,  8.,  8.],\n",
      "        [ 9.,  9.,  9.]])\n"
     ]
    }
   ],
   "source": [
    "# Stacking\n",
    "# x_stacked = torch.stack([x,x,x], dim=0)\n",
    "# x_stacked\n",
    "\n",
    "x_stacked = torch.stack([x,x,x], dim=1)\n",
    "print(x_stacked)"
   ]
  },
  {
   "cell_type": "code",
   "execution_count": 7,
   "metadata": {},
   "outputs": [
    {
     "name": "stdout",
     "output_type": "stream",
     "text": [
      "Previous x_reshaped: tensor([[10.,  2.,  3.,  4.,  5.,  6.,  7.,  8.,  9.]])\n",
      "Previous shape: torch.Size([1, 9])\n",
      "Squeezed x_reshaped: tensor([10.,  2.,  3.,  4.,  5.,  6.,  7.,  8.,  9.])\n",
      "Squeezed shape: torch.Size([9])\n"
     ]
    }
   ],
   "source": [
    "# Now squeezing the squeezed tensor\n",
    "\n",
    "print(f\"Previous x_reshaped: {x_reshaped}\")\n",
    "print(f\"Previous shape: {x_reshaped.shape}\")\n",
    "\n",
    "# After squeezing the torch\n",
    "x_squeezed = x_reshaped.squeeze()\n",
    "print(f\"Squeezed x_reshaped: {x_squeezed}\")\n",
    "print(f\"Squeezed shape: {x_squeezed.shape}\")"
   ]
  },
  {
   "cell_type": "code",
   "execution_count": 8,
   "metadata": {},
   "outputs": [
    {
     "name": "stdout",
     "output_type": "stream",
     "text": [
      "Unsqueezed x_unsqueezed at dim 0 : tensor([[10.,  2.,  3.,  4.,  5.,  6.,  7.,  8.,  9.]])\n",
      "Unsqueezed x_unsqueezed at dim 0 shape: torch.Size([1, 9])\n",
      "\n",
      "\n",
      "Unsqueezed x_unsqueezed at dim 1: tensor([[10.],\n",
      "        [ 2.],\n",
      "        [ 3.],\n",
      "        [ 4.],\n",
      "        [ 5.],\n",
      "        [ 6.],\n",
      "        [ 7.],\n",
      "        [ 8.],\n",
      "        [ 9.]])\n",
      "Unsqueezed x_unsqueezed at dim 1 shape: torch.Size([9, 1])\n"
     ]
    }
   ],
   "source": [
    "# Now unsqueezing the squeezed tensor\n",
    "\n",
    "# Unsqueezing at the zero dim\n",
    "x_unsqueezed_dim_0 = x_squeezed.unsqueeze(dim=0)\n",
    "print(f\"Unsqueezed x_unsqueezed at dim 0 : {x_unsqueezed_dim_0}\")\n",
    "print(f\"Unsqueezed x_unsqueezed at dim 0 shape: {x_unsqueezed_dim_0.shape}\")\n",
    "\n",
    "# Unsqueezing at the first dim\n",
    "print(\"\\n\")\n",
    "x_unsqueezed_dim_1 = x_squeezed.unsqueeze(dim=1)\n",
    "print(f\"Unsqueezed x_unsqueezed at dim 1: {x_unsqueezed_dim_1}\")\n",
    "print(f\"Unsqueezed x_unsqueezed at dim 1 shape: {x_unsqueezed_dim_1.shape}\")\n"
   ]
  },
  {
   "cell_type": "code",
   "execution_count": 9,
   "metadata": {},
   "outputs": [
    {
     "name": "stdout",
     "output_type": "stream",
     "text": [
      "Original Image Shape: torch.Size([3, 224, 224])\n",
      "Permutted Image Shape: torch.Size([224, 224, 3])\n"
     ]
    }
   ],
   "source": [
    "# Permute the original tensor(image) to rearrange the axis(dim) order\n",
    "\n",
    "x_image = torch.rand(size=(3, 224, 224)) # Image with 3 channel 224, 224 height and width\n",
    "\n",
    "# Permutting the image tensor to rearrange the axis (dims) orders\n",
    "\n",
    "x_permutted = x_image.permute(2,1,0)\n",
    "print(f\"Original Image Shape: {x_image.shape}\")\n",
    "print(f\"Permutted Image Shape: {x_permutted.shape}\")"
   ]
  },
  {
   "cell_type": "code",
   "execution_count": 10,
   "metadata": {},
   "outputs": [
    {
     "name": "stdout",
     "output_type": "stream",
     "text": [
      "Original Image element at first index: 10.0\n",
      "Permutted Image element at first index: 10.0\n"
     ]
    }
   ],
   "source": [
    "# Permutted image is just reference the same memeory of the original image\n",
    "\n",
    "x_image[0, 0, 0] = 10.\n",
    "print(f\"Original Image element at first index: {x_image[0,0,0]}\")\n",
    "print(f\"Permutted Image element at first index: {x_permutted[0,0,0]}\")\n"
   ]
  },
  {
   "cell_type": "code",
   "execution_count": 11,
   "metadata": {},
   "outputs": [
    {
     "name": "stdout",
     "output_type": "stream",
     "text": [
      "tensor([[[0.1974, 0.7271, 0.7349],\n",
      "         [0.0616, 0.5731, 0.1780],\n",
      "         [0.5634, 0.6210, 0.0726]],\n",
      "\n",
      "        [[0.1998, 0.6440, 0.9438],\n",
      "         [0.7483, 0.3064, 0.4740],\n",
      "         [0.3151, 0.0702, 0.2181]]])\n",
      "Original Image Shape: torch.Size([2, 3, 3])\n",
      "Permutted Image Shape: torch.Size([3, 3, 2])\n",
      "tensor([[[0.1974, 0.1998],\n",
      "         [0.0616, 0.7483],\n",
      "         [0.5634, 0.3151]],\n",
      "\n",
      "        [[0.7271, 0.6440],\n",
      "         [0.5731, 0.3064],\n",
      "         [0.6210, 0.0702]],\n",
      "\n",
      "        [[0.7349, 0.9438],\n",
      "         [0.1780, 0.4740],\n",
      "         [0.0726, 0.2181]]])\n"
     ]
    }
   ],
   "source": [
    "x_image_test = torch.rand(size=(2, 3, 3))\n",
    "print(x_image_test)\n",
    "\n",
    "# Permutting the image tensor to rearrange the axis (dims) orders\n",
    "\n",
    "x_permutted_test = x_image_test.permute(2,1,0)\n",
    "print(f\"Original Image Shape: {x_image_test.shape}\")\n",
    "print(f\"Permutted Image Shape: {x_permutted_test.shape}\")\n",
    "print(x_permutted_test)"
   ]
  },
  {
   "cell_type": "code",
   "execution_count": 12,
   "metadata": {},
   "outputs": [
    {
     "data": {
      "image/png": "[encoded data removed]",
      "text/plain": [
       "<Figure size 640x480 with 1 Axes>"
      ]
     },
     "metadata": {},
     "output_type": "display_data"
    }
   ],
   "source": [
    "import numpy as np\n",
    "\n",
    "import matplotlib.pyplot as plt\n",
    "\n",
    "def central_limit_theorem(n_sample, size_random):\n",
    "    result = []\n",
    "    for i in range(1, size_random+1): \n",
    "        x_mean = [np.mean(np.random.randint(1, 7, i)) for _ in range(n_sample)]\n",
    "        result.append(x_mean)\n",
    "    return result\n",
    "\n",
    "data = central_limit_theorem(10000, 100)\n",
    "\n",
    "counts, bins = np.histogram(data, bins=30, density=True)\n",
    "\n",
    "mask = counts > 0\n",
    "filtered_counts = counts[mask]\n",
    "filtered_bins = bins[:-1][mask]\n",
    "\n",
    "plt.hist(filtered_bins, bins=len(filtered_bins), weights=filtered_counts, alpha=0.6, color='g')\n",
    "plt.title('Central Limit Theorem Demonstration')\n",
    "plt.xlabel('Sample Means')\n",
    "plt.ylabel('Frequency')\n",
    "plt.show()\n"
   ]
  },
  {
   "cell_type": "code",
   "execution_count": 13,
   "metadata": {},
   "outputs": [
    {
     "data": {
      "text/plain": [
       "(tensor([[[1, 2, 3],\n",
       "          [4, 5, 6],\n",
       "          [7, 8, 9]]]),\n",
       " torch.Size([1, 3, 3]))"
      ]
     },
     "execution_count": 13,
     "metadata": {},
     "output_type": "execute_result"
    }
   ],
   "source": [
    "x = torch.arange(1, 10).reshape(1, 3, 3)\n",
    "x, x.shape"
   ]
  },
  {
   "cell_type": "code",
   "execution_count": 14,
   "metadata": {},
   "outputs": [
    {
     "name": "stdout",
     "output_type": "stream",
     "text": [
      "tensor([[1, 2, 3],\n",
      "        [4, 5, 6],\n",
      "        [7, 8, 9]])\n",
      "tensor([1, 2, 3])\n",
      "tensor(1)\n"
     ]
    }
   ],
   "source": [
    "print(x[0])\n",
    "print(x[0][0])\n",
    "print(x[0][0][0])"
   ]
  },
  {
   "cell_type": "code",
   "execution_count": 15,
   "metadata": {},
   "outputs": [
    {
     "name": "stdout",
     "output_type": "stream",
     "text": [
      "tensor([5])\n"
     ]
    }
   ],
   "source": [
    "print(x[:, 1, 1])"
   ]
  },
  {
   "cell_type": "code",
   "execution_count": 16,
   "metadata": {},
   "outputs": [
    {
     "name": "stdout",
     "output_type": "stream",
     "text": [
      "tensor([1, 2, 3])\n"
     ]
    }
   ],
   "source": [
    "print(x[0, 0, :]) "
   ]
  },
  {
   "cell_type": "code",
   "execution_count": 17,
   "metadata": {},
   "outputs": [
    {
     "name": "stdout",
     "output_type": "stream",
     "text": [
      "Numpy array: [1 2 3 4 5 6 7] and dtyp is: int64\n",
      "Torch tensor: tensor([1, 2, 3, 4, 5, 6, 7]) and dtype is: torch.int64\n",
      "\n",
      "\n",
      "Numpy array: [1. 2. 3. 4. 5. 6. 7.] and dtyp is: float64\n",
      "Torch tensor: tensor([1., 2., 3., 4., 5., 6., 7.], dtype=torch.float64) and dtype is: torch.float64\n"
     ]
    }
   ],
   "source": [
    "# Conerting the Numpy array to torch tensor\n",
    "\n",
    "array = np.arange(1, 8) # The default dtype of numpy int64 for integers\n",
    "tensor = torch.from_numpy(array)\n",
    "print(f\"Numpy array: {array} and dtyp is: {array.dtype}\")\n",
    "print(f\"Torch tensor: {tensor} and dtype is: {tensor.dtype}\")\n",
    "print(\"\\n\")\n",
    "\n",
    "array = np.arange(1.0, 8.0) # The default dtype of numpy is float64 for floatin point numbers\n",
    "tensor = torch.from_numpy(array)\n",
    "print(f\"Numpy array: {array} and dtyp is: {array.dtype}\")\n",
    "print(f\"Torch tensor: {tensor} and dtype is: {tensor.dtype}\")"
   ]
  },
  {
   "cell_type": "code",
   "execution_count": 18,
   "metadata": {},
   "outputs": [
    {
     "name": "stdout",
     "output_type": "stream",
     "text": [
      "Torch tensor float: tensor([1., 2., 3., 4., 5., 6., 7.]) and original dtype is: torch.float32\n",
      "\n",
      "\n",
      "Torch tensor float: tensor([1, 2, 3, 4, 5, 6, 7]) and original dtype is: torch.int64\n"
     ]
    }
   ],
   "source": [
    "# The Deafult dtype for tensor in torch is float32 for floats and int64 for integers \n",
    "\n",
    "# Floats\n",
    "tensor_org = torch.arange(1.0, 8.0)\n",
    "print(f\"Torch tensor float: {tensor_org} and original dtype is: {tensor_org.dtype}\")\n",
    "print(\"\\n\")\n",
    "\n",
    "# Integers\n",
    "tensor_org = torch.arange(1, 8)\n",
    "print(f\"Torch tensor float: {tensor_org} and original dtype is: {tensor_org.dtype}\")"
   ]
  },
  {
   "cell_type": "code",
   "execution_count": 19,
   "metadata": {},
   "outputs": [
    {
     "name": "stdout",
     "output_type": "stream",
     "text": [
      "Numpy array dtype: float64\n",
      "Torch tensor dtype: torch.float32\n"
     ]
    }
   ],
   "source": [
    "# Changing the datatype of numpy array when converting numpy array to torch tensor\n",
    "\n",
    "array = np.arange(1.0, 8.0)\n",
    "print(f\"Numpy array dtype: {array.dtype}\")\n",
    "tensor = torch.from_numpy(array).type(torch.float32)\n",
    "print(f\"Torch tensor dtype: {tensor.dtype}\")"
   ]
  },
  {
   "cell_type": "code",
   "execution_count": 20,
   "metadata": {},
   "outputs": [
    {
     "data": {
      "text/plain": [
       "(array([2., 3., 4., 5., 6., 7., 8.]),\n",
       " tensor([1., 2., 3., 4., 5., 6., 7.], dtype=torch.float64))"
      ]
     },
     "execution_count": 20,
     "metadata": {},
     "output_type": "execute_result"
    }
   ],
   "source": [
    "# If the tensor are created from the numpy array and we made modification to it doesn't reflect on torch tensors\n",
    "\n",
    "array = np.arange(1.0, 8.0) \n",
    "tensor = torch.from_numpy(array)\n",
    "array = array + 1\n",
    "array, tensor"
   ]
  },
  {
   "cell_type": "code",
   "execution_count": 21,
   "metadata": {},
   "outputs": [
    {
     "name": "stdout",
     "output_type": "stream",
     "text": [
      "Original dtype of tensor: torch.float64\n",
      "Modified tensor dtype: torch.int64\n"
     ]
    }
   ],
   "source": [
    "# Converting the tensor from one datatype to another\n",
    "print(f\"Original dtype of tensor: {tensor.dtype}\")\n",
    "tensor = tensor.type(torch.int64)\n",
    "\n",
    "print(f\"Modified tensor dtype: {tensor.dtype}\")"
   ]
  },
  {
   "cell_type": "code",
   "execution_count": 22,
   "metadata": {},
   "outputs": [],
   "source": [
    "import mpmath\n",
    "import numpy as np\n",
    "\n",
    "def ramanujan_pi(n):\n",
    "    mpmath.mp.dps = 1000\n",
    "    total_sum = mpmath.mpf(0)\n",
    "    for k in range(n):\n",
    "        numerator = mpmath.fac(4 * k) * (1103 + 26390 * k)\n",
    "        denominator = (mpmath.fac(k)**4) * (396**(4 * k))\n",
    "        total_sum += numerator / denominator\n",
    "    total = (2 * mpmath.sqrt(2) / 9801) * total_sum\n",
    "    return 1 / total\n"
   ]
  },
  {
   "cell_type": "code",
   "execution_count": 23,
   "metadata": {},
   "outputs": [
    {
     "name": "stdout",
     "output_type": "stream",
     "text": [
      "Mpmath Pi value: 3.141592653589793238462643383279502884197169399375105820974944592307816406286208998628034825342117067982148086513282306647093844609550582231725359408128481117450284102701938521105559644622948954930381964428810975665933446128475648233786783165271201909145648566923460348610454326648213393607260249141273724587006606315588174881520920962829254091715364367892590360011330530548820466521384146951941511609433057270365759591953092186117381932611793105118548074462379962749567351885752724891227938183011949129833673362440656643086021394946395224737190702179860943702770539217176293176752384674818467669405132000568127145263560827785771342757789609173637178721468440901224953430146549585371050792279689258923542019956112129021960864034418159813629774771309960518707211349999998372978049951059731732816096318595024459455346908302642522308253344685035261931188171010003137838752886587533208381420617177669147303598253490428755468731159562863882353787593751957781857780532171226806613001927876611195909216420199\n",
      "Ramanujan Pi value: 3.141592653589793238462643383279502884197169399375105820974944592307816406286208998628034825342117067982148086513282306647093844609550582231725359408128481117450284102701938521105559644622948954930381964428810975665933446128475648233786783165271201909145648566923460348610454326648213393607260249141273724587006606315588174881520920962829254091715364367892590360011330530548820466521384146951941511609433057270365759591953092186117381932611793105118548074462379962749567351885752724891227938183011949129833673362440656643086021394946395224737190702179860943702770539217176293176752384674818467669405132000568127145263560827785771342757789609173637178721468440901224953430146549585371050792279689258923542019956112129021960864034418159813629774771309960518707211349999998372978049951059731732816096318595024459455346908302642522308253344685035261931188171010003137838752886587533208381420617177669147303598253490428755468731159562863882353787593751957781857780532171226806613001927876611195909216420199\n",
      "False\n"
     ]
    }
   ],
   "source": [
    "pi_rama_value = ramanujan_pi(1000)\n",
    "mpmath.mp.dps = 1000\n",
    "pi_value = mpmath.mp.pi\n",
    "print(f\"Mpmath Pi value: {pi_value}\")\n",
    "print(f\"Ramanujan Pi value: {pi_rama_value}\")\n",
    "if pi_rama_value == pi_value:\n",
    "    print(\"True\")\n",
    "else:\n",
    "    print(\"False\")"
   ]
  },
  {
   "cell_type": "code",
   "execution_count": 24,
   "metadata": {},
   "outputs": [
    {
     "name": "stdout",
     "output_type": "stream",
     "text": [
      "Tensor: tensor([1., 1., 1., 1., 1., 1., 1.]), datatype:torch.float32\n",
      "Converted Numpy array: [1. 1. 1. 1. 1. 1. 1.], datatype:float32\n"
     ]
    }
   ],
   "source": [
    "# Converting the numpy torch tensor to numpy array\n",
    "\n",
    "tensor = torch.ones(7)\n",
    "print(f\"Tensor: {tensor}, datatype:{tensor.dtype}\")\n",
    "numpy_array = tensor.numpy()\n",
    "print(f\"Converted Numpy array: {numpy_array}, datatype:{numpy_array.dtype}\")"
   ]
  },
  {
   "cell_type": "code",
   "execution_count": 28,
   "metadata": {},
   "outputs": [
    {
     "name": "stdout",
     "output_type": "stream",
     "text": [
      "tensor([[False, False, False],\n",
      "        [False, False, False],\n",
      "        [False, False, False]])\n"
     ]
    }
   ],
   "source": [
    "# Creatig the random tensors \n",
    "\n",
    "tensor_A = torch.rand(3,3)\n",
    "tensor_B = torch.rand(3,3)\n",
    "print(tensor_A == tensor_B)"
   ]
  },
  {
   "cell_type": "code",
   "execution_count": 29,
   "metadata": {},
   "outputs": [
    {
     "name": "stdout",
     "output_type": "stream",
     "text": [
      "Random tensor A :tensor([[0.8398, 0.8042, 0.1213],\n",
      "        [0.5309, 0.6646, 0.4077],\n",
      "        [0.0888, 0.2429, 0.7053]])\n",
      "Random tensor B :tensor([[0.8398, 0.8042, 0.1213],\n",
      "        [0.5309, 0.6646, 0.4077],\n",
      "        [0.0888, 0.2429, 0.7053]])\n",
      "tensor([[True, True, True],\n",
      "        [True, True, True],\n",
      "        [True, True, True]])\n"
     ]
    }
   ],
   "source": [
    "# Creating the random tensor with a seed\n",
    "\n",
    "RANDOM_SEED = 69\n",
    "\n",
    "torch.manual_seed(RANDOM_SEED)\n",
    "tensor_A = torch.rand(3,3)\n",
    "\n",
    "torch.manual_seed(RANDOM_SEED)\n",
    "tensor_B = torch.rand(3,3)\n",
    "\n",
    "print(f\"Random tensor A :{tensor_A}\")\n",
    "print(f\"Random tensor B :{tensor_B}\")\n",
    "print(tensor_A == tensor_B)"
   ]
  },
  {
   "cell_type": "code",
   "execution_count": 33,
   "metadata": {},
   "outputs": [
    {
     "name": "stdout",
     "output_type": "stream",
     "text": [
      "Sat Jun 29 13:55:11 2024       \n",
      "+-----------------------------------------------------------------------------------------+\n",
      "| NVIDIA-SMI 550.90.07              Driver Version: 550.90.07      CUDA Version: 12.4     |\n",
      "|-----------------------------------------+------------------------+----------------------+\n",
      "| GPU  Name                 Persistence-M | Bus-Id          Disp.A | Volatile Uncorr. ECC |\n",
      "| Fan  Temp   Perf          Pwr:Usage/Cap |           Memory-Usage | GPU-Util  Compute M. |\n",
      "|                                         |                        |               MIG M. |\n",
      "|=========================================+========================+======================|\n",
      "|   0  NVIDIA GeForce GTX 1060        Off |   00000000:01:00.0 Off |                  N/A |\n",
      "| N/A   58C    P8              4W /   88W |       7MiB /   6144MiB |      0%      Default |\n",
      "|                                         |                        |                  N/A |\n",
      "+-----------------------------------------+------------------------+----------------------+\n",
      "                                                                                         \n",
      "+-----------------------------------------------------------------------------------------+\n",
      "| Processes:                                                                              |\n",
      "|  GPU   GI   CI        PID   Type   Process name                              GPU Memory |\n",
      "|        ID   ID                                                               Usage      |\n",
      "|=========================================================================================|\n",
      "|    0   N/A  N/A       796      G   /usr/lib/Xorg                                   4MiB |\n",
      "+-----------------------------------------------------------------------------------------+\n"
     ]
    }
   ],
   "source": [
    "# Running the Pytorch Tensor or pytorch object in the GPUs\n",
    "!nvidia-smi"
   ]
  },
  {
   "cell_type": "code",
   "execution_count": 34,
   "metadata": {},
   "outputs": [
    {
     "data": {
      "text/plain": [
       "True"
      ]
     },
     "execution_count": 34,
     "metadata": {},
     "output_type": "execute_result"
    }
   ],
   "source": [
    "# Checking if the pytorch is configured corectly on GPUs\n",
    "\n",
    "torch.cuda.is_available()"
   ]
  },
  {
   "cell_type": "code",
   "execution_count": 35,
   "metadata": {},
   "outputs": [
    {
     "data": {
      "text/plain": [
       "'cuda'"
      ]
     },
     "execution_count": 35,
     "metadata": {},
     "output_type": "execute_result"
    }
   ],
   "source": [
    "# Setting up the cuda or cpu \n",
    "\n",
    "device = \"cuda\" if torch.cuda.is_available() else \"cpu\"\n",
    "device"
   ]
  },
  {
   "cell_type": "code",
   "execution_count": 36,
   "metadata": {},
   "outputs": [
    {
     "data": {
      "text/plain": [
       "1"
      ]
     },
     "execution_count": 36,
     "metadata": {},
     "output_type": "execute_result"
    }
   ],
   "source": [
    "torch.cuda.device_count()"
   ]
  },
  {
   "cell_type": "code",
   "execution_count": 41,
   "metadata": {},
   "outputs": [
    {
     "name": "stdout",
     "output_type": "stream",
     "text": [
      "Tensor: tensor([1, 2, 3, 4, 5, 6]), tensor on device:cpu\n",
      "Tensor: tensor([1, 2, 3, 4, 5, 6]), tensor on device:cpu\n"
     ]
    }
   ],
   "source": [
    "# Comparing the compute of pytorch tensor in CPU and GPU\n",
    "\n",
    "tensor = torch.tensor([1,2,3,4,5,6],device=\"cpu\" )\n",
    "print(f\"Tensor: {tensor}, tensor on device:{tensor.device}\")\n",
    "\n",
    "tensor = torch.tensor([1,2,3,4,5,6],device=\"cpu\" ) # Default device is always on CPU\n",
    "print(f\"Tensor: {tensor}, tensor on device:{tensor.device}\")"
   ]
  },
  {
   "cell_type": "code",
   "execution_count": 42,
   "metadata": {},
   "outputs": [
    {
     "name": "stdout",
     "output_type": "stream",
     "text": [
      "Tensor: tensor([1, 2, 3, 4, 5, 6], device='cuda:0'), tensor on device:cuda:0\n"
     ]
    }
   ],
   "source": [
    "# Moving the tensor from CPU to GPU\n",
    "\n",
    "tensor_on_gpu = tensor.to(device)\n",
    "print(f\"Tensor: {tensor_on_gpu}, tensor on device:{tensor_on_gpu.device}\")"
   ]
  },
  {
   "cell_type": "code",
   "execution_count": 45,
   "metadata": {},
   "outputs": [
    {
     "ename": "TypeError",
     "evalue": "can't convert cuda:0 device type tensor to numpy. Use Tensor.cpu() to copy the tensor to host memory first.",
     "output_type": "error",
     "traceback": [
      "\u001b[0;31m---------------------------------------------------------------------------\u001b[0m",
      "\u001b[0;31mTypeError\u001b[0m                                 Traceback (most recent call last)",
      "Cell \u001b[0;32mIn[45], line 2\u001b[0m\n\u001b[1;32m      1\u001b[0m \u001b[38;5;66;03m# Converting the tensor back to Numpy but we need to go back to CPU\u001b[39;00m\n\u001b[0;32m----> 2\u001b[0m \u001b[43mtensor_on_gpu\u001b[49m\u001b[38;5;241;43m.\u001b[39;49m\u001b[43mnumpy\u001b[49m\u001b[43m(\u001b[49m\u001b[43m)\u001b[49m\n",
      "\u001b[0;31mTypeError\u001b[0m: can't convert cuda:0 device type tensor to numpy. Use Tensor.cpu() to copy the tensor to host memory first."
     ]
    }
   ],
   "source": [
    "# Converting the tensor back to Numpy but we need to go back to CPU\n",
    "tensor_on_gpu.numpy()"
   ]
  },
  {
   "cell_type": "code",
   "execution_count": 53,
   "metadata": {},
   "outputs": [
    {
     "name": "stdout",
     "output_type": "stream",
     "text": [
      "cuda:0\n",
      "[1 2 3 4 5 6]\n",
      "[1 2 3 4 5 6]\n"
     ]
    }
   ],
   "source": [
    "# Moving the GPU tensor to CPU tensor and converting it to Numpy array\n",
    "tensor_to_cpu = tensor_on_gpu.to(\"cpu\").numpy()\n",
    "print(tensor_on_gpu)\n",
    "print(tensor_to_cpu)\n",
    "\n",
    "# Or\n",
    "\n",
    "tensor_to_cpu = tensor_on_gpu.cpu().numpy()\n",
    "print(tensor_to_cpu)\n"
   ]
  }
 ],
 "metadata": {
  "kernelspec": {
   "display_name": "utsab",
   "language": "python",
   "name": "python3"
  },
  "language_info": {
   "codemirror_mode": {
    "name": "ipython",
    "version": 3
   },
   "file_extension": ".py",
   "mimetype": "text/x-python",
   "name": "python",
   "nbconvert_exporter": "python",
   "pygments_lexer": "ipython3",
   "version": "3.11.4"
  }
 },
 "nbformat": 4,
 "nbformat_minor": 2
}
