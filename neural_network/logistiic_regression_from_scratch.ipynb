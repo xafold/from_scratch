{
 "cells": [
  {
   "cell_type": "markdown",
   "id": "2e52faf0",
   "metadata": {},
   "source": [
    "# Nueral Network Basic and Basic Numpy"
   ]
  },
  {
   "cell_type": "code",
   "execution_count": 158,
   "id": "3c9f8be5",
   "metadata": {},
   "outputs": [],
   "source": [
    "import numpy as np\n",
    "import matplotlib.pyplot as plt"
   ]
  },
  {
   "cell_type": "markdown",
   "id": "073d3023",
   "metadata": {},
   "source": [
    "## Basic Neural Network Functions and Numpy Functions"
   ]
  },
  {
   "cell_type": "markdown",
   "id": "de5b2a97",
   "metadata": {},
   "source": [
    "### Sigmoid Function"
   ]
  },
  {
   "cell_type": "code",
   "execution_count": 159,
   "id": "cf1f2630",
   "metadata": {},
   "outputs": [
    {
     "name": "stdout",
     "output_type": "stream",
     "text": [
      "[[0.73105858 0.88079708 0.95257413]\n",
      " [0.98201379 0.99330715 0.99752738]\n",
      " [0.99908895 0.99966465 0.99987661]]\n"
     ]
    }
   ],
   "source": [
    "def sigmoid(x):\n",
    "    s = 1/(1+np.exp(-x))\n",
    "    return s\n",
    "\n",
    "x = np.array([[1,2,3],[4,5,6],[7,8,9]])\n",
    "x_sig = sigmoid(x)\n",
    "print(x_sig)"
   ]
  },
  {
   "cell_type": "markdown",
   "id": "11d5dff7",
   "metadata": {},
   "source": [
    "### Derivative of Sigmoid Function"
   ]
  },
  {
   "cell_type": "code",
   "execution_count": 160,
   "id": "9bba5a16",
   "metadata": {},
   "outputs": [
    {
     "name": "stdout",
     "output_type": "stream",
     "text": [
      "[[1.96611933e-01 1.04993585e-01 4.51766597e-02]\n",
      " [1.76627062e-02 6.64805667e-03 2.46650929e-03]\n",
      " [9.10221180e-04 3.35237671e-04 1.23379350e-04]]\n"
     ]
    }
   ],
   "source": [
    "def sigmoid_deriv(x):\n",
    "    x = sigmoid(x)\n",
    "    dx = x*(1-x)\n",
    "    return dx\n",
    "\n",
    "x = np.array([[1,2,3],[4,5,6],[7,8,9]])\n",
    "x_sig_der = sigmoid_deriv(x)\n",
    "print(x_sig_der)"
   ]
  },
  {
   "cell_type": "code",
   "execution_count": 161,
   "id": "202f6b86",
   "metadata": {},
   "outputs": [
    {
     "name": "stdout",
     "output_type": "stream",
     "text": [
      "[[[0.78974825 0.65017216 0.5022438 ]\n",
      "  [0.70140762 0.693169   0.03511817]\n",
      "  [0.69899868 0.4114062  0.66980739]]\n",
      "\n",
      " [[0.1479813  0.64529267 0.4421453 ]\n",
      "  [0.29749276 0.72898279 0.19208314]\n",
      "  [0.86909692 0.13214028 0.87375262]]\n",
      "\n",
      " [[0.71526927 0.40188671 0.68705445]\n",
      "  [0.64208157 0.10630831 0.0068591 ]\n",
      "  [0.07493032 0.98198467 0.61969549]]\n",
      "\n",
      " [[0.00629398 0.83512007 0.24960643]\n",
      "  [0.61252181 0.30432673 0.42601507]\n",
      "  [0.31016022 0.68670816 0.2405454 ]]]\n"
     ]
    }
   ],
   "source": [
    "image = np.random.uniform(0, 1, size=(4,3,3))\n",
    "print(image)"
   ]
  },
  {
   "cell_type": "code",
   "execution_count": 162,
   "id": "d84da220",
   "metadata": {},
   "outputs": [
    {
     "name": "stdout",
     "output_type": "stream",
     "text": [
      "4\n"
     ]
    }
   ],
   "source": [
    "print(image.shape[0])"
   ]
  },
  {
   "cell_type": "code",
   "execution_count": 163,
   "id": "dd0e3a6c",
   "metadata": {},
   "outputs": [
    {
     "name": "stdout",
     "output_type": "stream",
     "text": [
      "(36, 1)\n",
      "[[0.78974825]\n",
      " [0.65017216]\n",
      " [0.5022438 ]\n",
      " [0.70140762]\n",
      " [0.693169  ]\n",
      " [0.03511817]\n",
      " [0.69899868]\n",
      " [0.4114062 ]\n",
      " [0.66980739]\n",
      " [0.1479813 ]\n",
      " [0.64529267]\n",
      " [0.4421453 ]\n",
      " [0.29749276]\n",
      " [0.72898279]\n",
      " [0.19208314]\n",
      " [0.86909692]\n",
      " [0.13214028]\n",
      " [0.87375262]\n",
      " [0.71526927]\n",
      " [0.40188671]\n",
      " [0.68705445]\n",
      " [0.64208157]\n",
      " [0.10630831]\n",
      " [0.0068591 ]\n",
      " [0.07493032]\n",
      " [0.98198467]\n",
      " [0.61969549]\n",
      " [0.00629398]\n",
      " [0.83512007]\n",
      " [0.24960643]\n",
      " [0.61252181]\n",
      " [0.30432673]\n",
      " [0.42601507]\n",
      " [0.31016022]\n",
      " [0.68670816]\n",
      " [0.2405454 ]]\n"
     ]
    }
   ],
   "source": [
    "image_reshaped = image.reshape(image.shape[0]*image.shape[1]*image.shape[2], 1)\n",
    "print(image_reshaped.shape)\n",
    "print(image_reshaped)"
   ]
  },
  {
   "cell_type": "markdown",
   "id": "cf7f707b",
   "metadata": {},
   "source": [
    "### Normalizing Function"
   ]
  },
  {
   "cell_type": "code",
   "execution_count": 164,
   "id": "7ab33eb1",
   "metadata": {},
   "outputs": [
    {
     "name": "stdout",
     "output_type": "stream",
     "text": [
      "[[ 3.74165739]\n",
      " [ 8.77496439]\n",
      " [13.92838828]]\n",
      "[[0.26726124 0.53452248 0.80178373]\n",
      " [0.45584231 0.56980288 0.68376346]\n",
      " [0.50257071 0.57436653 0.64616234]]\n"
     ]
    }
   ],
   "source": [
    "def norm(x):\n",
    "    x_norm = np.linalg.norm(x, axis=1, keepdims=True)\n",
    "    print(x_norm)\n",
    "    x = x/x_norm\n",
    "    return x\n",
    "\n",
    "x = np.array([[1,2,3],[4,5,6],[7,8,9]])\n",
    "x_norm = norm(x)\n",
    "print(x_norm)"
   ]
  },
  {
   "cell_type": "markdown",
   "id": "adaa9378",
   "metadata": {},
   "source": [
    "### Softmax Function"
   ]
  },
  {
   "cell_type": "code",
   "execution_count": 165,
   "id": "333700f8",
   "metadata": {},
   "outputs": [
    {
     "name": "stdout",
     "output_type": "stream",
     "text": [
      "[[   30.19287485]\n",
      " [  606.44010263]\n",
      " [12180.67507305]]\n",
      "[[0.09003057 0.24472847 0.66524096]\n",
      " [0.09003057 0.24472847 0.66524096]\n",
      " [0.09003057 0.24472847 0.66524096]]\n"
     ]
    }
   ],
   "source": [
    "def softmax(x):\n",
    "    x_exp = np.exp(x)\n",
    "\n",
    "    x_exp_sum = np.sum(x_exp, axis=1, keepdims=True)\n",
    "    print(x_exp_sum)\n",
    "\n",
    "    x_soft = x_exp/x_exp_sum\n",
    "\n",
    "    return x_soft\n",
    "\n",
    "x = np.array([[1,2,3],[4,5,6],[7,8,9]])\n",
    "x_soft = softmax(x)\n",
    "print(x_soft)"
   ]
  },
  {
   "cell_type": "markdown",
   "id": "f73db80c",
   "metadata": {},
   "source": [
    "### L1 Loss Function"
   ]
  },
  {
   "cell_type": "code",
   "execution_count": 166,
   "id": "3d0e86ed",
   "metadata": {},
   "outputs": [
    {
     "name": "stdout",
     "output_type": "stream",
     "text": [
      "3.8499999999999996\n"
     ]
    }
   ],
   "source": [
    "def l1_loss(y_hat, y):\n",
    "    loss = np.sum(np.abs(y_hat-y))\n",
    "    return loss\n",
    "\n",
    "y_hat = np.array([1,0,0,0,1,1,1,0,1])\n",
    "y = np.array([0.9, 0.2, 0.1, 0.5, 0.3, 0.75, 0.9, 0.95, 0.05])\n",
    "\n",
    "loss = l1_loss(y_hat, y)\n",
    "print(loss)"
   ]
  },
  {
   "cell_type": "markdown",
   "id": "73755550",
   "metadata": {},
   "source": [
    "### L2 Loss Function"
   ]
  },
  {
   "cell_type": "code",
   "execution_count": 167,
   "id": "ba700a5e",
   "metadata": {},
   "outputs": [
    {
     "name": "stdout",
     "output_type": "stream",
     "text": [
      "2.6774999999999998\n"
     ]
    }
   ],
   "source": [
    "def l2_loss(y_hat, y):\n",
    "    y_intm = y - y_hat\n",
    "    loss = np.dot(y_intm, y_intm)\n",
    "    return loss\n",
    "\n",
    "y_hat = np.array([1,0,0,0,1,1,1,0,1])\n",
    "y = np.array([0.9, 0.2, 0.1, 0.5, 0.3, 0.75, 0.9, 0.95, 0.05])\n",
    "\n",
    "loss = l2_loss(y_hat, y)\n",
    "print(loss)"
   ]
  },
  {
   "cell_type": "code",
   "execution_count": 168,
   "id": "b09b342b",
   "metadata": {},
   "outputs": [
    {
     "name": "stdout",
     "output_type": "stream",
     "text": [
      "(27, 3)\n",
      "[[ 2.00650138 -0.96449699  0.82002635]\n",
      " [ 0.51773932 -0.12500355 -0.37149656]\n",
      " [ 0.46616838  2.0702061   1.48877859]\n",
      " [-0.00823392 -1.76022927  0.50317994]\n",
      " [ 0.2159154   1.95573789  0.4674093 ]\n",
      " [-1.46344145 -0.3585716  -0.53744704]\n",
      " [ 0.83296131  0.45197385  0.0065002 ]\n",
      " [-0.56716446  1.39352788 -1.37208893]\n",
      " [-1.3081126   1.1171348  -0.25372032]\n",
      " [-0.44547604  1.01520804  0.65186342]\n",
      " [-1.68181618 -0.76212521  0.7247456 ]\n",
      " [ 0.08936988  1.20827456 -0.49185529]\n",
      " [-0.42633395 -1.06128334  1.05345335]\n",
      " [-0.69442645 -0.78413008 -0.03577724]\n",
      " [ 0.408223    0.63612656  1.30386059]\n",
      " [-0.36493863 -1.23828299  0.23324213]\n",
      " [-0.32351803  0.25852328  2.14466065]\n",
      " [-0.21808645  1.67634644 -1.24069864]\n",
      " [-0.48944034 -1.00707876  1.44627483]\n",
      " [ 0.94392621 -1.95709772  1.50126272]\n",
      " [-0.58558082 -0.45187327 -0.76027546]\n",
      " [-0.87057929 -0.14810955  0.59739102]\n",
      " [-0.08026002  1.3139241   0.18731531]\n",
      " [-1.18385314  0.82898843 -1.66754906]\n",
      " [-0.84497755  0.275739    0.55956289]\n",
      " [-0.29866857  0.64400432  0.74984195]\n",
      " [-1.1556601  -0.09186094 -0.75761095]]\n"
     ]
    }
   ],
   "source": [
    "x = np.random.randn(3,3,3,3)\n",
    "\n",
    "x_flat = x.reshape(x.shape[0], -1).T\n",
    "print(x_flat.shape)\n",
    "print(x_flat)"
   ]
  },
  {
   "cell_type": "code",
   "execution_count": 169,
   "id": "ce0e65d9",
   "metadata": {},
   "outputs": [],
   "source": [
    "from lr_utils import load_dataset\n"
   ]
  },
  {
   "cell_type": "markdown",
   "id": "0b01e181",
   "metadata": {},
   "source": [
    "# Implementing the Logistic Regression "
   ]
  },
  {
   "cell_type": "markdown",
   "id": "917be69a",
   "metadata": {},
   "source": [
    "### Loading the cat vs non-cat dataset"
   ]
  },
  {
   "cell_type": "code",
   "execution_count": 170,
   "id": "1125f595",
   "metadata": {},
   "outputs": [
    {
     "name": "stdout",
     "output_type": "stream",
     "text": [
      "Training images: (209, 64, 64, 3)\n",
      "Testing images: (50, 64, 64, 3)\n",
      "Train Set label: (1, 209)\n",
      "Test Set label: (1, 50)\n"
     ]
    }
   ],
   "source": [
    "train_set_x_orig, train_set_y, test_set_x_orig, test_set_y, classes = load_dataset()\n",
    "print(f\"Training images: {train_set_x_orig.shape}\")\n",
    "print(f\"Testing images: {test_set_x_orig.shape}\")\n",
    "print(f\"Train Set label: {train_set_y.shape}\")\n",
    "print(f\"Test Set label: {test_set_y.shape}\")"
   ]
  },
  {
   "cell_type": "code",
   "execution_count": 171,
   "id": "246bc6c8",
   "metadata": {},
   "outputs": [
    {
     "name": "stdout",
     "output_type": "stream",
     "text": [
      "y = 1, it is a b'cat' images\n"
     ]
    },
    {
     "data": {
      "image/png": "[encoded data removed]",
      "text/plain": [
       "<Figure size 640x480 with 1 Axes>"
      ]
     },
     "metadata": {},
     "output_type": "display_data"
    }
   ],
   "source": [
    "index = 50\n",
    "plt.imshow(train_set_x_orig[index])\n",
    "print(f\"y = {train_set_y[0, index]}, it is a {classes[np.squeeze(train_set_y[:, index])]} images\")"
   ]
  },
  {
   "cell_type": "code",
   "execution_count": 172,
   "id": "16613391",
   "metadata": {},
   "outputs": [
    {
     "name": "stdout",
     "output_type": "stream",
     "text": [
      "y = 1, it is a b'cat' images\n"
     ]
    },
    {
     "data": {
      "image/png": "[encoded data removed]",
      "text/plain": [
       "<Figure size 640x480 with 1 Axes>"
      ]
     },
     "metadata": {},
     "output_type": "display_data"
    }
   ],
   "source": [
    "index = 20\n",
    "plt.imshow(test_set_x_orig[index])\n",
    "print(f\"y = {test_set_y[0, index]}, it is a {classes[np.squeeze(test_set_y[:, index])]} images\")"
   ]
  },
  {
   "cell_type": "markdown",
   "id": "6c51ccad",
   "metadata": {},
   "source": [
    "### Flatenning the image datasets"
   ]
  },
  {
   "cell_type": "code",
   "execution_count": 173,
   "id": "e266717a",
   "metadata": {},
   "outputs": [
    {
     "name": "stdout",
     "output_type": "stream",
     "text": [
      "(12288, 209)\n"
     ]
    }
   ],
   "source": [
    "train_set_flat = train_set_x_orig.reshape(-1, train_set_x_orig.shape[0])\n",
    "print(train_set_flat.shape)"
   ]
  },
  {
   "cell_type": "code",
   "execution_count": 174,
   "id": "c80316e2",
   "metadata": {},
   "outputs": [
    {
     "name": "stdout",
     "output_type": "stream",
     "text": [
      "(12288, 50)\n"
     ]
    }
   ],
   "source": [
    "test_set_flat = test_set_x_orig.reshape(-1, test_set_x_orig.shape[0])\n",
    "print(test_set_flat.shape)"
   ]
  },
  {
   "cell_type": "code",
   "execution_count": 175,
   "id": "bbd500b1",
   "metadata": {},
   "outputs": [
    {
     "name": "stdout",
     "output_type": "stream",
     "text": [
      "[0.18431373 0.14117647 0.29411765 0.15294118 0.10588235 0.25490196\n",
      " 0.13333333 0.02745098 0.22352941 0.09411765]\n"
     ]
    }
   ],
   "source": [
    "train_set_x = train_set_flat/255\n",
    "test_set_x = test_set_flat/255\n",
    "\n",
    "print(train_set_x[0:10, 25])"
   ]
  },
  {
   "cell_type": "markdown",
   "id": "19b821aa",
   "metadata": {},
   "source": [
    "### Implementing the General Algorithm for the neural network\n",
    "\n",
    "**Mathematical expression of the algorithm**:\n",
    "\n",
    "For one example $x^{(i)}$:\n",
    "$$z^{(i)} = w^T x^{(i)} + b \\tag{1}$$\n",
    "$$\\hat{y}^{(i)} = a^{(i)} = sigmoid(z^{(i)})\\tag{2}$$ \n",
    "$$ \\mathcal{L}(a^{(i)}, y^{(i)}) =  - y^{(i)}  \\log(a^{(i)}) - (1-y^{(i)} )  \\log(1-a^{(i)})\\tag{3}$$\n",
    "\n",
    "The cost is then computed by summing over all training examples:\n",
    "$$ J = \\frac{1}{m} \\sum_{i=1}^m \\mathcal{L}(a^{(i)}, y^{(i)})\\tag{6}$$"
   ]
  },
  {
   "cell_type": "code",
   "execution_count": 176,
   "id": "3f1a4d61",
   "metadata": {},
   "outputs": [],
   "source": [
    "def sigmoid(x):\n",
    "    s = 1/(1+np.exp(-x))\n",
    "    return s\n",
    "\n",
    "def init_params(dim):\n",
    "    w = np.zeros((dim, 1))\n",
    "    b = 0\n",
    "    return w, b\n",
    "\n",
    "dim = 100\n",
    "weight, bias = init_params(dim)"
   ]
  },
  {
   "cell_type": "markdown",
   "id": "7aa13e63",
   "metadata": {},
   "source": [
    "### Forward Propagate\n",
    "Forward Propagation:\n",
    "- You get X\n",
    "- You compute $A = \\sigma(w^T X + b) = (a^{(1)}, a^{(2)}, ..., a^{(m-1)}, a^{(m)})$\n",
    "- You calculate the cost function: $J = -\\frac{1}{m}\\sum_{i=1}^{m}y^{(i)}\\log(a^{(i)})+(1-y^{(i)})\\log(1-a^{(i)})$\n",
    "\n",
    "Here are the two formulas: \n",
    "\n",
    "$$ \\frac{\\partial J}{\\partial w} = \\frac{1}{m}X(A-Y)^T\\tag{7}$$\n",
    "$$ \\frac{\\partial J}{\\partial b} = \\frac{1}{m} \\sum_{i=1}^m (a^{(i)}-y^{(i)})\\tag{8}$$\n"
   ]
  },
  {
   "cell_type": "code",
   "execution_count": 177,
   "id": "c5443451",
   "metadata": {},
   "outputs": [],
   "source": [
    "def forward_prop(w, b, x, y):\n",
    "    m = x.shape[1]\n",
    "    z = np.dot(w.T, x) + b\n",
    "    a = sigmoid(z)\n",
    "    \n",
    "    cost = -1/m*np.sum(y*np.log(a) + (1-y)*np.log(1-a))\n",
    "    cost = np.squeeze(cost)\n",
    "    return a,cost\n"
   ]
  },
  {
   "cell_type": "code",
   "execution_count": 178,
   "id": "c60ab657",
   "metadata": {},
   "outputs": [],
   "source": [
    "w, b, x, y = np.array([[1.],[2.]]), 2., np.array([[1.,2.,-1.],[3.,4.,-3.2]]), np.array([[1,0,1]])\n",
    "\n",
    "a, cost = forward_prop(w,b,x, y)"
   ]
  },
  {
   "cell_type": "code",
   "execution_count": 179,
   "id": "a069d52b",
   "metadata": {},
   "outputs": [],
   "source": [
    "def backward_propagate(a,x,y):\n",
    "    m = x.shape[1]\n",
    "    \n",
    "    dw = 1/m*(np.dot(x, (a-y).T))\n",
    "    db = 1/m*(np.sum(a-y))\n",
    "    \n",
    "    return {\n",
    "        \"dw\":dw,\n",
    "        \"db\":db\n",
    "    }"
   ]
  },
  {
   "cell_type": "code",
   "execution_count": 180,
   "id": "56e6e7c6",
   "metadata": {},
   "outputs": [
    {
     "name": "stdout",
     "output_type": "stream",
     "text": [
      "{'dw': array([[0.99845601],\n",
      "       [2.39507239]]), 'db': 0.001455578136784208}\n"
     ]
    }
   ],
   "source": [
    "result = backward_propagate(a, x, y)\n",
    "print(result)"
   ]
  },
  {
   "cell_type": "code",
   "execution_count": 181,
   "id": "3e9fdb5c",
   "metadata": {},
   "outputs": [],
   "source": [
    "def propagate(w,b,x,y):\n",
    "    m = x.shape[1]\n",
    "    z = np.dot(w.T, x) + b\n",
    "    a = sigmoid(z)\n",
    "    \n",
    "    cost = np.squeeze(-1/m*np.sum(y*np.log(a) + (1-y)*np.log(1-a)))\n",
    "    \n",
    "    dw = 1/m*(np.dot(x, (a-y).T))\n",
    "    db = 1/m*(np.sum(a-y))\n",
    "    \n",
    "    grad = {\n",
    "        \"dw\":dw,\n",
    "        \"db\":db\n",
    "    }\n",
    "    \n",
    "    return cost, grad\n"
   ]
  },
  {
   "cell_type": "code",
   "execution_count": 182,
   "id": "fde2f3f5",
   "metadata": {},
   "outputs": [
    {
     "name": "stdout",
     "output_type": "stream",
     "text": [
      "Cost: 3.6673374287855847, Grad: {'dw': array([[0.66599082],\n",
      "       [1.33120633]]), 'db': 0.33376891650928664}\n"
     ]
    }
   ],
   "source": [
    "w, b, x, y = np.array([[1.],[2.]]), 1., np.array([[1.,2.,-1.],[3.,4.,-3.2]]), np.array([[1,0,0]])\n",
    "\n",
    "cost, grad = propagate(w,b,x, y)\n",
    "print(f\"Cost: {cost}, Grad: {grad}\")"
   ]
  },
  {
   "cell_type": "markdown",
   "id": "db4f4a67",
   "metadata": {},
   "source": [
    "### Optimizig the weight and bias\n",
    "- Optimizing the weight and biases usign the cost function calculated."
   ]
  },
  {
   "cell_type": "code",
   "execution_count": 207,
   "id": "252bcb1d",
   "metadata": {},
   "outputs": [],
   "source": [
    "def optimization(w, b, x, y, num_itr, lr):\n",
    "    costs = []\n",
    "    for i in range(num_itr):\n",
    "        cost, grad = propagate(w,b,x,y)\n",
    "        \n",
    "        dw = grad[\"dw\"]\n",
    "        db = grad[\"db\"]\n",
    "        \n",
    "        w = w - (lr*dw)\n",
    "        b = b - (lr*db)\n",
    "        \n",
    "        if i % 100 == 0:\n",
    "            costs.append(cost)\n",
    "    params = {\n",
    "        \"w\":w,\n",
    "        \"b\":b\n",
    "    }\n",
    "    \n",
    "    grads = {\n",
    "        \"dw\":dw,\n",
    "        \"db\":db,\n",
    "    }\n",
    "    return params, grads, costs"
   ]
  },
  {
   "cell_type": "code",
   "execution_count": 208,
   "id": "8e841fe1",
   "metadata": {},
   "outputs": [
    {
     "name": "stdout",
     "output_type": "stream",
     "text": [
      "Oprimized Weight: [[1.32974322]\n",
      " [2.09114934]], Optmized Bias: 0.8552922262923619\n"
     ]
    }
   ],
   "source": [
    "params, grads, costs = optimization(w,b,x,y,num_itr=350, lr=0.009)\n",
    "print(f\"Oprimized Weight: {params['w']}, Optmized Bias: {params['b']}\")\n"
   ]
  },
  {
   "cell_type": "code",
   "execution_count": 209,
   "id": "5b32ee66",
   "metadata": {},
   "outputs": [
    {
     "name": "stdout",
     "output_type": "stream",
     "text": [
      "4\n"
     ]
    },
    {
     "data": {
      "text/plain": [
       "[<matplotlib.lines.Line2D at 0x7fcd6c894e10>]"
      ]
     },
     "execution_count": 209,
     "metadata": {},
     "output_type": "execute_result"
    },
    {
     "data": {
      "image/png": "[encoded data removed]",
      "text/plain": [
       "<Figure size 640x480 with 1 Axes>"
      ]
     },
     "metadata": {},
     "output_type": "display_data"
    }
   ],
   "source": [
    "print(len(costs))\n",
    "plt.plot(costs)"
   ]
  },
  {
   "cell_type": "markdown",
   "id": "652892ee",
   "metadata": {},
   "source": [
    "### Making the prediction function"
   ]
  },
  {
   "cell_type": "code",
   "execution_count": 210,
   "id": "1555eec3",
   "metadata": {},
   "outputs": [],
   "source": [
    "def prediction(w,b,x):\n",
    "    m = x.shape[1]\n",
    "    y_pred = np.zeros((1,m))\n",
    "    w = w.reshape(x.shape[0], 1)\n",
    "    a = sigmoid(np.dot(w.T, x) + b)\n",
    "    \n",
    "    y_pred = (a >= 0.5) * 1.0\n",
    "    \n",
    "    return y_pred"
   ]
  },
  {
   "cell_type": "code",
   "execution_count": 211,
   "id": "f00c7038",
   "metadata": {},
   "outputs": [
    {
     "name": "stdout",
     "output_type": "stream",
     "text": [
      "Prediction: [[1. 0. 0.]]\n"
     ]
    }
   ],
   "source": [
    "x = np.array([[1, -1.1, -3.2], [1.2, -1, 0.1]])\n",
    "predictions = prediction(params['w'], params['b'], x)\n",
    "print(f\"Prediction: {predictions}\")"
   ]
  },
  {
   "cell_type": "markdown",
   "id": "1efe352e",
   "metadata": {},
   "source": [
    "### Creating the Logistic Regression Model \n",
    "- From the function we defined above and tested for few datset we now create a logistic model from the training dataset."
   ]
  },
  {
   "cell_type": "code",
   "execution_count": 212,
   "id": "92f70474",
   "metadata": {},
   "outputs": [],
   "source": [
    "def model(x_train, y_train, x_test, y_test, num_itr=300, lr=0.009):\n",
    "    w, b = init_params(x_train.shape[0])\n",
    "    parameters, grads, costs = optimization(w, b, x_train, y_train, num_itr, lr)\n",
    "    \n",
    "    w, b = parameters['w'], parameters['b']\n",
    "    \n",
    "    y_pred_train = prediction(w, b, x_train)\n",
    "    y_pred_test = prediction(w, b, x_test)\n",
    "    \n",
    "    print(f\"Training Accuracy: {(100 - np.mean(np.abs(y_pred_train - y_train)) * 100)}%\")\n",
    "    print(f\"Testing Accuracy: {(100 - np.mean(np.abs(y_pred_test - y_test)) * 100)}%\")\n",
    "    \n",
    "    model_output = {\n",
    "        \"costs\":costs,\n",
    "        \"y_pred_train\": y_pred_train,\n",
    "        \"y_pred_test\": y_pred_test,\n",
    "        \"w\":w,\n",
    "        \"b\":b,\n",
    "        \"lr\":lr,\n",
    "        \"num_itr\":num_itr\n",
    "    }\n",
    "    \n",
    "    return model_output"
   ]
  },
  {
   "cell_type": "code",
   "execution_count": 213,
   "id": "9c599a60",
   "metadata": {},
   "outputs": [
    {
     "name": "stdout",
     "output_type": "stream",
     "text": [
      "Training Accuracy: 100.0%\n",
      "Testing Accuracy: 34.0%\n"
     ]
    }
   ],
   "source": [
    "model_output = model(train_set_x, train_set_y, test_set_x, test_set_y, num_itr = 10000, lr = 0.009)\n"
   ]
  },
  {
   "cell_type": "code",
   "execution_count": 214,
   "id": "f0194459",
   "metadata": {},
   "outputs": [
    {
     "data": {
      "image/png": "[encoded data removed]",
      "text/plain": [
       "<Figure size 640x480 with 1 Axes>"
      ]
     },
     "metadata": {},
     "output_type": "display_data"
    }
   ],
   "source": [
    "one_sample = test_set_x[:,1].reshape(64,64,3)\n",
    "original_image = np.uint8(np.multiply(one_sample, 255))\n",
    "\n",
    "# Plot the original image\n",
    "plt.imshow(original_image)\n",
    "plt.axis('off')  # To hide the axis\n",
    "plt.show()"
   ]
  },
  {
   "cell_type": "code",
   "execution_count": 215,
   "id": "b26bfba3",
   "metadata": {},
   "outputs": [
    {
     "data": {
      "image/png": "[encoded data removed]",
      "text/plain": [
       "<Figure size 640x480 with 1 Axes>"
      ]
     },
     "metadata": {},
     "output_type": "display_data"
    }
   ],
   "source": [
    "costs = np.squeeze(model_output['costs'])\n",
    "plt.plot(costs)\n",
    "plt.ylabel('cost')\n",
    "plt.xlabel('iterations (per hundreds)')\n",
    "plt.title(f\"Learning rate = {model_output['lr']}\")\n",
    "plt.show()"
   ]
  },
  {
   "cell_type": "code",
   "execution_count": 216,
   "id": "aaf69fa3",
   "metadata": {},
   "outputs": [
    {
     "name": "stdout",
     "output_type": "stream",
     "text": [
      "learning rate is: 0.01\n"
     ]
    },
    {
     "name": "stdout",
     "output_type": "stream",
     "text": [
      "Training Accuracy: 81.33971291866028%\n",
      "Testing Accuracy: 34.0%\n",
      "\n",
      "-------------------------------------------------------\n",
      "\n",
      "learning rate is: 0.001\n",
      "Training Accuracy: 77.51196172248804%\n",
      "Testing Accuracy: 34.0%\n",
      "\n",
      "-------------------------------------------------------\n",
      "\n",
      "learning rate is: 0.0001\n",
      "Training Accuracy: 69.85645933014354%\n",
      "Testing Accuracy: 34.0%\n",
      "\n",
      "-------------------------------------------------------\n",
      "\n"
     ]
    },
    {
     "data": {
      "image/png": "[encoded data removed]",
      "text/plain": [
       "<Figure size 640x480 with 1 Axes>"
      ]
     },
     "metadata": {},
     "output_type": "display_data"
    }
   ],
   "source": [
    "learning_rates = [0.01, 0.001, 0.0001]\n",
    "models = {}\n",
    "for i in learning_rates:\n",
    "    print (\"learning rate is: \" + str(i))\n",
    "    models[str(i)] = model(train_set_x, train_set_y, test_set_x, test_set_y, num_itr = 3000, lr = i)\n",
    "    print ('\\n' + \"-------------------------------------------------------\" + '\\n')\n",
    "\n",
    "for i in learning_rates:\n",
    "    plt.plot(np.squeeze(models[str(i)][\"costs\"]), label= str(models[str(i)][\"lr\"]))\n",
    "\n",
    "plt.ylabel('cost')\n",
    "plt.xlabel('iterations (hundreds)')\n",
    "\n",
    "legend = plt.legend(loc='upper center', shadow=True)\n",
    "frame = legend.get_frame()\n",
    "frame.set_facecolor('0.90')\n",
    "plt.show()"
   ]
  }
 ],
 "metadata": {
  "kernelspec": {
   "display_name": "Python 3",
   "language": "python",
   "name": "python3"
  },
  "language_info": {
   "codemirror_mode": {
    "name": "ipython",
    "version": 3
   },
   "file_extension": ".py",
   "mimetype": "text/x-python",
   "name": "python",
   "nbconvert_exporter": "python",
   "pygments_lexer": "ipython3",
   "version": "3.11.4"
  }
 },
 "nbformat": 4,
 "nbformat_minor": 5
}
