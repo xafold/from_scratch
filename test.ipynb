{
 "cells": [
  {
   "cell_type": "code",
   "execution_count": null,
   "metadata": {},
   "outputs": [],
   "source": [
    "# Define the range for x\n",
    "x = np.linspace(-5, 5, 400)\n",
    "\n",
    "# Calculate the corresponding y values for both equations\n",
    "y1 = 2 - x\n",
    "y2 = x\n",
    "\n",
    "# Create the plot\n",
    "plt.figure(figsize=(8, 6))\n",
    "\n",
    "# Plot the equations\n",
    "plt.plot(x, y1, label=\"x + y = 1\")\n",
    "plt.plot(x, y2, label=\"x - y = 0\")\n",
    "\n",
    "A = np.array([[1, 1], [1, -1]])\n",
    "B = np.array([2, 0])\n",
    "\n",
    "# Solve the system of linear equations\n",
    "intersection = np.linalg.solve(A, B)\n",
    "\n",
    "# Extract the x and y coordinates of the intersection point\n",
    "x_intersect, y_intersect = intersection\n",
    "\n",
    "plt.scatter(x_intersect, y_intersect, color='red', zorder=5)\n",
    "plt.text(x_intersect, y_intersect, f'({x_intersect:.2f}, {y_intersect:.2f})', fontsize=12, ha='right')\n",
    "\n",
    "# Add labels and title\n",
    "plt.xlabel('x')\n",
    "plt.ylabel('y')\n",
    "plt.title('Plots of the Equations x + y = 1 and x - y = 0')\n",
    "\n",
    "# Add a legend\n",
    "plt.legend()\n",
    "\n",
    "# Configure the grid\n",
    "plt.grid(True, which='both')  # Turn on the grid for both major and minor ticks\n",
    "plt.minorticks_on()  # Turn on minor ticks\n",
    "\n",
    "# Set the grid's major and minor ticks\n",
    "plt.gca().xaxis.set_major_locator(plt.MultipleLocator(1))\n",
    "plt.gca().yaxis.set_major_locator(plt.MultipleLocator(1))\n",
    "plt.gca().xaxis.set_minor_locator(plt.MultipleLocator(1))\n",
    "plt.gca().yaxis.set_minor_locator(plt.MultipleLocator(1))\n",
    "\n",
    "plt.axhline(0, color='black', linewidth=1)\n",
    "plt.axvline(0, color='black', linewidth=1)\n",
    "\n",
    "# Show the plot\n",
    "plt.show()"
   ]
  }
 ],
 "metadata": {
  "language_info": {
   "name": "python"
  }
 },
 "nbformat": 4,
 "nbformat_minor": 2
}
